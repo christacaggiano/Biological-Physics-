{
 "cells": [
  {
   "cell_type": "code",
   "execution_count": 15,
   "metadata": {
    "collapsed": false
   },
   "outputs": [],
   "source": [
    "import math\n",
    "import numpy as np\n",
    "import matplotlib.pyplot as plt\n",
    "\n",
    "#probability of mystery TF at ZT2 with varying binding affinities \n",
    "\n",
    "c1 = np.linspace(0, 10**-6)\n",
    "p1 = (c1*math.exp(17))/(1+c1*math.exp(17))\n",
    "\n",
    "c2 = np.linspace(0, 10**-6)\n",
    "p2 = (c2*math.exp(14.5))/(1+c2*math.exp(14.5))\n",
    "\n",
    "c3 = np.linspace(0, 10**-6)\n",
    "p3 = (c3*math.exp(18))/(1+c3*math.exp(18))\n",
    "\n",
    "plt.plot(c1,p1,'Black',label='Kd=70nM')\n",
    "plt.plot(c3,p3,'DarkBlue',label='Kd=30nM') \n",
    "plt.plot(c2,p2,'CornFlowerBlue', label='Kd=500nM')\n",
    "\n",
    "legend = plt.legend(loc='upper right')\n",
    "\n",
    "plt.xlabel('Concentration of mystery TF (M)')\n",
    "plt.ylabel('probability')\n",
    "\n",
    "plt.show()"
   ]
  },
  {
   "cell_type": "code",
   "execution_count": 9,
   "metadata": {
    "collapsed": false
   },
   "outputs": [],
   "source": [
    "#probability of mystery TF at ZT2 with what I'd say a good binding affinity is  \n",
    "\n",
    "c1 = np.linspace(0, 10**-6)\n",
    "p1 = (c1*math.exp(18))/(1+c1*math.exp(18))\n",
    "\n",
    "plt.plot(c1,p1,'Black',label='Kd=70nM')\n",
    "\n",
    "legend = plt.legend(loc='upper right')\n",
    "\n",
    "plt.xlabel('Concentration of mystery TF (M)')\n",
    "plt.ylabel('probability')\n",
    "\n",
    "plt.show()"
   ]
  },
  {
   "cell_type": "code",
   "execution_count": 39,
   "metadata": {
    "collapsed": false
   },
   "outputs": [],
   "source": [
    "#cooperativity  \n",
    "\n",
    "c2 = np.linspace(0, 0.2)\n",
    "p2 = (2*c2*math.exp(5)+((2*c2**2)*math.exp(2*5*-5)))/(1+(2*c2*math.exp(5)+((c2**2)*math.exp(2*5*-5))))\n",
    "\n",
    "plt.plot(c2,p2,'DarkGrey')\n",
    "\n",
    "plt.xlabel('Concentration of mystery TF (M)')\n",
    "plt.ylabel('Occupancy')\n",
    "\n",
    "plt.xlim(0,0.2)\n",
    "plt.ylim([0,1.5])\n",
    "\n",
    "\n",
    "plt.show()\n"
   ]
  },
  {
   "cell_type": "code",
   "execution_count": null,
   "metadata": {
    "collapsed": true
   },
   "outputs": [],
   "source": []
  }
 ],
 "metadata": {
  "kernelspec": {
   "display_name": "Python 3",
   "language": "python",
   "name": "python3"
  },
  "language_info": {
   "codemirror_mode": {
    "name": "ipython",
    "version": 3
   },
   "file_extension": ".py",
   "mimetype": "text/x-python",
   "name": "python",
   "nbconvert_exporter": "python",
   "pygments_lexer": "ipython3",
   "version": "3.4.3"
  }
 },
 "nbformat": 4,
 "nbformat_minor": 0
}
